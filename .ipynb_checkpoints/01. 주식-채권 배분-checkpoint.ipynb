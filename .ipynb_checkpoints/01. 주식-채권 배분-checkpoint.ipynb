{
 "cells": [
  {
   "cell_type": "code",
   "execution_count": 3,
   "id": "7699daed-56b8-467d-9715-2350d345351b",
   "metadata": {},
   "outputs": [],
   "source": [
    "!pip3 install yfinance --quiet\n",
    "# Yahoo finance 금융 데이터 액세스를 위한 패키지\n",
    "# 주식, 채권, 통화 및 암호화폐에 대한 광범위한 시장 데이터 제공"
   ]
  },
  {
   "cell_type": "code",
   "execution_count": null,
   "id": "50a59186-0169-4621-9f3e-52da2fa1213e",
   "metadata": {},
   "outputs": [],
   "source": []
  }
 ],
 "metadata": {
  "kernelspec": {
   "display_name": "Python 3 (ipykernel)",
   "language": "python",
   "name": "python3"
  },
  "language_info": {
   "codemirror_mode": {
    "name": "ipython",
    "version": 3
   },
   "file_extension": ".py",
   "mimetype": "text/x-python",
   "name": "python",
   "nbconvert_exporter": "python",
   "pygments_lexer": "ipython3",
   "version": "3.9.6"
  }
 },
 "nbformat": 4,
 "nbformat_minor": 5
}
